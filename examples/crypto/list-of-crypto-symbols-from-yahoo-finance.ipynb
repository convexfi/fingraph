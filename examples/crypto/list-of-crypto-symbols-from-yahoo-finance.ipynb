{
 "cells": [
  {
   "cell_type": "code",
   "execution_count": 1,
   "metadata": {},
   "outputs": [],
   "source": [
    "from requests_html import HTMLSession\n",
    "from bs4 import BeautifulSoup\n",
    "import pandas as pd"
   ]
  },
  {
   "cell_type": "code",
   "execution_count": 2,
   "metadata": {},
   "outputs": [],
   "source": [
    "number_of_tokens = 50"
   ]
  },
  {
   "cell_type": "code",
   "execution_count": 3,
   "metadata": {},
   "outputs": [],
   "source": [
    "url = \"https://finance.yahoo.com/crypto/?offset=0&count={}\".format(number_of_tokens)"
   ]
  },
  {
   "cell_type": "code",
   "execution_count": 4,
   "metadata": {},
   "outputs": [
    {
     "data": {
      "text/plain": [
       "'https://finance.yahoo.com/crypto/?offset=0&count=50'"
      ]
     },
     "execution_count": 4,
     "metadata": {},
     "output_type": "execute_result"
    }
   ],
   "source": [
    "url"
   ]
  },
  {
   "cell_type": "code",
   "execution_count": 5,
   "metadata": {},
   "outputs": [],
   "source": [
    "session = HTMLSession()"
   ]
  },
  {
   "cell_type": "code",
   "execution_count": 6,
   "metadata": {},
   "outputs": [],
   "source": [
    "page = session.get(url)"
   ]
  },
  {
   "cell_type": "code",
   "execution_count": 7,
   "metadata": {},
   "outputs": [],
   "source": [
    "soup = BeautifulSoup(page.content, 'html.parser')"
   ]
  },
  {
   "cell_type": "code",
   "execution_count": 8,
   "metadata": {},
   "outputs": [],
   "source": [
    "symbols = [s['href'] for s in soup.find_all('a') if s['href'].endswith('USD') and s['href'].startswith('/quote/')]"
   ]
  },
  {
   "cell_type": "code",
   "execution_count": 9,
   "metadata": {},
   "outputs": [
    {
     "data": {
      "text/plain": [
       "16"
      ]
     },
     "execution_count": 9,
     "metadata": {},
     "output_type": "execute_result"
    }
   ],
   "source": [
    "symbols[0].find('=')"
   ]
  },
  {
   "cell_type": "code",
   "execution_count": 10,
   "metadata": {},
   "outputs": [
    {
     "data": {
      "text/plain": [
       "['/quote/BTC-USD?p=BTC-USD',\n",
       " '/quote/ETH-USD?p=ETH-USD',\n",
       " '/quote/USDT-USD?p=USDT-USD',\n",
       " '/quote/BNB-USD?p=BNB-USD',\n",
       " '/quote/USDC-USD?p=USDC-USD',\n",
       " '/quote/XRP-USD?p=XRP-USD',\n",
       " '/quote/ADA-USD?p=ADA-USD',\n",
       " '/quote/HEX-USD?p=HEX-USD',\n",
       " '/quote/STETH-USD?p=STETH-USD',\n",
       " '/quote/DOGE-USD?p=DOGE-USD',\n",
       " '/quote/SOL-USD?p=SOL-USD',\n",
       " '/quote/MATIC-USD?p=MATIC-USD',\n",
       " '/quote/WTRX-USD?p=WTRX-USD',\n",
       " '/quote/DOT-USD?p=DOT-USD',\n",
       " '/quote/TRX-USD?p=TRX-USD',\n",
       " '/quote/LTC-USD?p=LTC-USD',\n",
       " '/quote/BUSD-USD?p=BUSD-USD',\n",
       " '/quote/SHIB-USD?p=SHIB-USD',\n",
       " '/quote/AVAX-USD?p=AVAX-USD',\n",
       " '/quote/DAI-USD?p=DAI-USD',\n",
       " '/quote/WBTC-USD?p=WBTC-USD',\n",
       " '/quote/LEO-USD?p=LEO-USD',\n",
       " '/quote/LINK-USD?p=LINK-USD',\n",
       " '/quote/ATOM-USD?p=ATOM-USD',\n",
       " '/quote/UNI7083-USD?p=UNI7083-USD',\n",
       " '/quote/XMR-USD?p=XMR-USD',\n",
       " '/quote/OKB-USD?p=OKB-USD',\n",
       " '/quote/ETC-USD?p=ETC-USD',\n",
       " '/quote/TON11419-USD?p=TON11419-USD',\n",
       " '/quote/XLM-USD?p=XLM-USD',\n",
       " '/quote/BCH-USD?p=BCH-USD',\n",
       " '/quote/ICP-USD?p=ICP-USD',\n",
       " '/quote/CNX-USD?p=CNX-USD',\n",
       " '/quote/TUSD-USD?p=TUSD-USD',\n",
       " '/quote/FIL-USD?p=FIL-USD',\n",
       " '/quote/HBAR-USD?p=HBAR-USD',\n",
       " '/quote/WHBAR-USD?p=WHBAR-USD',\n",
       " '/quote/CRO-USD?p=CRO-USD',\n",
       " '/quote/APT21794-USD?p=APT21794-USD',\n",
       " '/quote/LDO-USD?p=LDO-USD',\n",
       " '/quote/BTCB-USD?p=BTCB-USD',\n",
       " '/quote/NEAR-USD?p=NEAR-USD',\n",
       " '/quote/ARB11841-USD?p=ARB11841-USD',\n",
       " '/quote/VET-USD?p=VET-USD',\n",
       " '/quote/QNT-USD?p=QNT-USD',\n",
       " '/quote/APE18876-USD?p=APE18876-USD',\n",
       " '/quote/ALGO-USD?p=ALGO-USD',\n",
       " '/quote/USDP-USD?p=USDP-USD',\n",
       " '/quote/FTM-USD?p=FTM-USD',\n",
       " '/quote/GRT6719-USD?p=GRT6719-USD']"
      ]
     },
     "execution_count": 10,
     "metadata": {},
     "output_type": "execute_result"
    }
   ],
   "source": [
    "symbols"
   ]
  },
  {
   "cell_type": "code",
   "execution_count": 11,
   "metadata": {},
   "outputs": [],
   "source": [
    "symbols_ = [s[s.find('=')+1:] for s in symbols]"
   ]
  },
  {
   "cell_type": "code",
   "execution_count": 12,
   "metadata": {},
   "outputs": [
    {
     "data": {
      "text/plain": [
       "50"
      ]
     },
     "execution_count": 12,
     "metadata": {},
     "output_type": "execute_result"
    }
   ],
   "source": [
    "len(symbols_)"
   ]
  },
  {
   "cell_type": "code",
   "execution_count": 13,
   "metadata": {},
   "outputs": [],
   "source": [
    "df = pd.DataFrame({'Symbols': symbols_})"
   ]
  },
  {
   "cell_type": "code",
   "execution_count": 14,
   "metadata": {},
   "outputs": [
    {
     "data": {
      "text/html": [
       "<div>\n",
       "<style scoped>\n",
       "    .dataframe tbody tr th:only-of-type {\n",
       "        vertical-align: middle;\n",
       "    }\n",
       "\n",
       "    .dataframe tbody tr th {\n",
       "        vertical-align: top;\n",
       "    }\n",
       "\n",
       "    .dataframe thead th {\n",
       "        text-align: right;\n",
       "    }\n",
       "</style>\n",
       "<table border=\"1\" class=\"dataframe\">\n",
       "  <thead>\n",
       "    <tr style=\"text-align: right;\">\n",
       "      <th></th>\n",
       "      <th>Symbols</th>\n",
       "    </tr>\n",
       "  </thead>\n",
       "  <tbody>\n",
       "    <tr>\n",
       "      <th>0</th>\n",
       "      <td>BTC-USD</td>\n",
       "    </tr>\n",
       "    <tr>\n",
       "      <th>1</th>\n",
       "      <td>ETH-USD</td>\n",
       "    </tr>\n",
       "    <tr>\n",
       "      <th>2</th>\n",
       "      <td>USDT-USD</td>\n",
       "    </tr>\n",
       "    <tr>\n",
       "      <th>3</th>\n",
       "      <td>BNB-USD</td>\n",
       "    </tr>\n",
       "    <tr>\n",
       "      <th>4</th>\n",
       "      <td>USDC-USD</td>\n",
       "    </tr>\n",
       "    <tr>\n",
       "      <th>5</th>\n",
       "      <td>XRP-USD</td>\n",
       "    </tr>\n",
       "    <tr>\n",
       "      <th>6</th>\n",
       "      <td>ADA-USD</td>\n",
       "    </tr>\n",
       "    <tr>\n",
       "      <th>7</th>\n",
       "      <td>HEX-USD</td>\n",
       "    </tr>\n",
       "    <tr>\n",
       "      <th>8</th>\n",
       "      <td>STETH-USD</td>\n",
       "    </tr>\n",
       "    <tr>\n",
       "      <th>9</th>\n",
       "      <td>DOGE-USD</td>\n",
       "    </tr>\n",
       "    <tr>\n",
       "      <th>10</th>\n",
       "      <td>SOL-USD</td>\n",
       "    </tr>\n",
       "    <tr>\n",
       "      <th>11</th>\n",
       "      <td>MATIC-USD</td>\n",
       "    </tr>\n",
       "    <tr>\n",
       "      <th>12</th>\n",
       "      <td>WTRX-USD</td>\n",
       "    </tr>\n",
       "    <tr>\n",
       "      <th>13</th>\n",
       "      <td>DOT-USD</td>\n",
       "    </tr>\n",
       "    <tr>\n",
       "      <th>14</th>\n",
       "      <td>TRX-USD</td>\n",
       "    </tr>\n",
       "    <tr>\n",
       "      <th>15</th>\n",
       "      <td>LTC-USD</td>\n",
       "    </tr>\n",
       "    <tr>\n",
       "      <th>16</th>\n",
       "      <td>BUSD-USD</td>\n",
       "    </tr>\n",
       "    <tr>\n",
       "      <th>17</th>\n",
       "      <td>SHIB-USD</td>\n",
       "    </tr>\n",
       "    <tr>\n",
       "      <th>18</th>\n",
       "      <td>AVAX-USD</td>\n",
       "    </tr>\n",
       "    <tr>\n",
       "      <th>19</th>\n",
       "      <td>DAI-USD</td>\n",
       "    </tr>\n",
       "    <tr>\n",
       "      <th>20</th>\n",
       "      <td>WBTC-USD</td>\n",
       "    </tr>\n",
       "    <tr>\n",
       "      <th>21</th>\n",
       "      <td>LEO-USD</td>\n",
       "    </tr>\n",
       "    <tr>\n",
       "      <th>22</th>\n",
       "      <td>LINK-USD</td>\n",
       "    </tr>\n",
       "    <tr>\n",
       "      <th>23</th>\n",
       "      <td>ATOM-USD</td>\n",
       "    </tr>\n",
       "    <tr>\n",
       "      <th>24</th>\n",
       "      <td>UNI7083-USD</td>\n",
       "    </tr>\n",
       "    <tr>\n",
       "      <th>25</th>\n",
       "      <td>XMR-USD</td>\n",
       "    </tr>\n",
       "    <tr>\n",
       "      <th>26</th>\n",
       "      <td>OKB-USD</td>\n",
       "    </tr>\n",
       "    <tr>\n",
       "      <th>27</th>\n",
       "      <td>ETC-USD</td>\n",
       "    </tr>\n",
       "    <tr>\n",
       "      <th>28</th>\n",
       "      <td>TON11419-USD</td>\n",
       "    </tr>\n",
       "    <tr>\n",
       "      <th>29</th>\n",
       "      <td>XLM-USD</td>\n",
       "    </tr>\n",
       "    <tr>\n",
       "      <th>30</th>\n",
       "      <td>BCH-USD</td>\n",
       "    </tr>\n",
       "    <tr>\n",
       "      <th>31</th>\n",
       "      <td>ICP-USD</td>\n",
       "    </tr>\n",
       "    <tr>\n",
       "      <th>32</th>\n",
       "      <td>CNX-USD</td>\n",
       "    </tr>\n",
       "    <tr>\n",
       "      <th>33</th>\n",
       "      <td>TUSD-USD</td>\n",
       "    </tr>\n",
       "    <tr>\n",
       "      <th>34</th>\n",
       "      <td>FIL-USD</td>\n",
       "    </tr>\n",
       "    <tr>\n",
       "      <th>35</th>\n",
       "      <td>HBAR-USD</td>\n",
       "    </tr>\n",
       "    <tr>\n",
       "      <th>36</th>\n",
       "      <td>WHBAR-USD</td>\n",
       "    </tr>\n",
       "    <tr>\n",
       "      <th>37</th>\n",
       "      <td>CRO-USD</td>\n",
       "    </tr>\n",
       "    <tr>\n",
       "      <th>38</th>\n",
       "      <td>APT21794-USD</td>\n",
       "    </tr>\n",
       "    <tr>\n",
       "      <th>39</th>\n",
       "      <td>LDO-USD</td>\n",
       "    </tr>\n",
       "    <tr>\n",
       "      <th>40</th>\n",
       "      <td>BTCB-USD</td>\n",
       "    </tr>\n",
       "    <tr>\n",
       "      <th>41</th>\n",
       "      <td>NEAR-USD</td>\n",
       "    </tr>\n",
       "    <tr>\n",
       "      <th>42</th>\n",
       "      <td>ARB11841-USD</td>\n",
       "    </tr>\n",
       "    <tr>\n",
       "      <th>43</th>\n",
       "      <td>VET-USD</td>\n",
       "    </tr>\n",
       "    <tr>\n",
       "      <th>44</th>\n",
       "      <td>QNT-USD</td>\n",
       "    </tr>\n",
       "    <tr>\n",
       "      <th>45</th>\n",
       "      <td>APE18876-USD</td>\n",
       "    </tr>\n",
       "    <tr>\n",
       "      <th>46</th>\n",
       "      <td>ALGO-USD</td>\n",
       "    </tr>\n",
       "    <tr>\n",
       "      <th>47</th>\n",
       "      <td>USDP-USD</td>\n",
       "    </tr>\n",
       "    <tr>\n",
       "      <th>48</th>\n",
       "      <td>FTM-USD</td>\n",
       "    </tr>\n",
       "    <tr>\n",
       "      <th>49</th>\n",
       "      <td>GRT6719-USD</td>\n",
       "    </tr>\n",
       "  </tbody>\n",
       "</table>\n",
       "</div>"
      ],
      "text/plain": [
       "         Symbols\n",
       "0        BTC-USD\n",
       "1        ETH-USD\n",
       "2       USDT-USD\n",
       "3        BNB-USD\n",
       "4       USDC-USD\n",
       "5        XRP-USD\n",
       "6        ADA-USD\n",
       "7        HEX-USD\n",
       "8      STETH-USD\n",
       "9       DOGE-USD\n",
       "10       SOL-USD\n",
       "11     MATIC-USD\n",
       "12      WTRX-USD\n",
       "13       DOT-USD\n",
       "14       TRX-USD\n",
       "15       LTC-USD\n",
       "16      BUSD-USD\n",
       "17      SHIB-USD\n",
       "18      AVAX-USD\n",
       "19       DAI-USD\n",
       "20      WBTC-USD\n",
       "21       LEO-USD\n",
       "22      LINK-USD\n",
       "23      ATOM-USD\n",
       "24   UNI7083-USD\n",
       "25       XMR-USD\n",
       "26       OKB-USD\n",
       "27       ETC-USD\n",
       "28  TON11419-USD\n",
       "29       XLM-USD\n",
       "30       BCH-USD\n",
       "31       ICP-USD\n",
       "32       CNX-USD\n",
       "33      TUSD-USD\n",
       "34       FIL-USD\n",
       "35      HBAR-USD\n",
       "36     WHBAR-USD\n",
       "37       CRO-USD\n",
       "38  APT21794-USD\n",
       "39       LDO-USD\n",
       "40      BTCB-USD\n",
       "41      NEAR-USD\n",
       "42  ARB11841-USD\n",
       "43       VET-USD\n",
       "44       QNT-USD\n",
       "45  APE18876-USD\n",
       "46      ALGO-USD\n",
       "47      USDP-USD\n",
       "48       FTM-USD\n",
       "49   GRT6719-USD"
      ]
     },
     "execution_count": 14,
     "metadata": {},
     "output_type": "execute_result"
    }
   ],
   "source": [
    "df"
   ]
  },
  {
   "cell_type": "code",
   "execution_count": 15,
   "metadata": {},
   "outputs": [],
   "source": [
    "df.to_csv(\"crypto-symbols-yahoo-finance.csv\")"
   ]
  },
  {
   "cell_type": "code",
   "execution_count": null,
   "metadata": {},
   "outputs": [],
   "source": []
  }
 ],
 "metadata": {
  "kernelspec": {
   "display_name": "Python 3",
   "language": "python",
   "name": "python3"
  },
  "language_info": {
   "codemirror_mode": {
    "name": "ipython",
    "version": 3
   },
   "file_extension": ".py",
   "mimetype": "text/x-python",
   "name": "python",
   "nbconvert_exporter": "python",
   "pygments_lexer": "ipython3",
   "version": "3.8.3"
  }
 },
 "nbformat": 4,
 "nbformat_minor": 4
}
