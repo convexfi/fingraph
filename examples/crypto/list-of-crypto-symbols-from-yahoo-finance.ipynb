{
 "cells": [
  {
   "cell_type": "code",
   "execution_count": 1,
   "metadata": {},
   "outputs": [],
   "source": [
    "from requests_html import HTMLSession\n",
    "from bs4 import BeautifulSoup\n",
    "import pandas as pd"
   ]
  },
  {
   "cell_type": "code",
   "execution_count": 2,
   "metadata": {},
   "outputs": [],
   "source": [
    "number_of_tokens = 250"
   ]
  },
  {
   "cell_type": "code",
   "execution_count": 3,
   "metadata": {},
   "outputs": [],
   "source": [
    "url = \"https://finance.yahoo.com/cryptocurrencies?count={}&offset=0\".format(number_of_tokens)"
   ]
  },
  {
   "cell_type": "code",
   "execution_count": 4,
   "metadata": {},
   "outputs": [
    {
     "data": {
      "text/plain": [
       "'https://finance.yahoo.com/cryptocurrencies?count=250&offset=0'"
      ]
     },
     "execution_count": 4,
     "metadata": {},
     "output_type": "execute_result"
    }
   ],
   "source": [
    "url"
   ]
  },
  {
   "cell_type": "code",
   "execution_count": 5,
   "metadata": {},
   "outputs": [],
   "source": [
    "session = HTMLSession()"
   ]
  },
  {
   "cell_type": "code",
   "execution_count": 6,
   "metadata": {},
   "outputs": [],
   "source": [
    "page = session.get(url)"
   ]
  },
  {
   "cell_type": "code",
   "execution_count": 7,
   "metadata": {},
   "outputs": [],
   "source": [
    "soup = BeautifulSoup(page.content, 'html.parser')"
   ]
  },
  {
   "cell_type": "code",
   "execution_count": 8,
   "metadata": {},
   "outputs": [],
   "source": [
    "symbols = [s['href'] for s in soup.find_all('a') if s['href'].endswith('USD') and s['href'].startswith('/quote/')]"
   ]
  },
  {
   "cell_type": "code",
   "execution_count": 9,
   "metadata": {},
   "outputs": [
    {
     "data": {
      "text/plain": [
       "16"
      ]
     },
     "execution_count": 9,
     "metadata": {},
     "output_type": "execute_result"
    }
   ],
   "source": [
    "symbols[0].find('=')"
   ]
  },
  {
   "cell_type": "code",
   "execution_count": 10,
   "metadata": {},
   "outputs": [
    {
     "data": {
      "text/plain": [
       "['/quote/BTC-USD?p=BTC-USD',\n",
       " '/quote/ETH-USD?p=ETH-USD',\n",
       " '/quote/USDT-USD?p=USDT-USD',\n",
       " '/quote/BNB-USD?p=BNB-USD',\n",
       " '/quote/USDC-USD?p=USDC-USD',\n",
       " '/quote/XRP-USD?p=XRP-USD',\n",
       " '/quote/BUSD-USD?p=BUSD-USD',\n",
       " '/quote/ADA-USD?p=ADA-USD',\n",
       " '/quote/SOL-USD?p=SOL-USD',\n",
       " '/quote/HEX-USD?p=HEX-USD',\n",
       " '/quote/DOGE-USD?p=DOGE-USD',\n",
       " '/quote/DOT-USD?p=DOT-USD',\n",
       " '/quote/WBTC-USD?p=WBTC-USD',\n",
       " '/quote/WTRX-USD?p=WTRX-USD',\n",
       " '/quote/AVAX-USD?p=AVAX-USD',\n",
       " '/quote/TRX-USD?p=TRX-USD',\n",
       " '/quote/STETH-USD?p=STETH-USD',\n",
       " '/quote/DAI-USD?p=DAI-USD',\n",
       " '/quote/SHIB-USD?p=SHIB-USD',\n",
       " '/quote/MATIC-USD?p=MATIC-USD',\n",
       " '/quote/LTC-USD?p=LTC-USD',\n",
       " '/quote/CRO-USD?p=CRO-USD',\n",
       " '/quote/LEO-USD?p=LEO-USD',\n",
       " '/quote/YOUC-USD?p=YOUC-USD',\n",
       " '/quote/NEAR-USD?p=NEAR-USD',\n",
       " '/quote/UNI1-USD?p=UNI1-USD',\n",
       " '/quote/FTT-USD?p=FTT-USD',\n",
       " '/quote/BCH-USD?p=BCH-USD',\n",
       " '/quote/XMR-USD?p=XMR-USD',\n",
       " '/quote/LINK-USD?p=LINK-USD',\n",
       " '/quote/XLM-USD?p=XLM-USD',\n",
       " '/quote/ATOM-USD?p=ATOM-USD',\n",
       " '/quote/BTCB-USD?p=BTCB-USD',\n",
       " '/quote/ETC-USD?p=ETC-USD',\n",
       " '/quote/FLOW-USD?p=FLOW-USD',\n",
       " '/quote/ALGO-USD?p=ALGO-USD',\n",
       " '/quote/APE3-USD?p=APE3-USD',\n",
       " '/quote/HBAR-USD?p=HBAR-USD',\n",
       " '/quote/VET-USD?p=VET-USD',\n",
       " '/quote/EGLD-USD?p=EGLD-USD',\n",
       " '/quote/MANA-USD?p=MANA-USD',\n",
       " '/quote/XTZ-USD?p=XTZ-USD',\n",
       " '/quote/ICP-USD?p=ICP-USD',\n",
       " '/quote/FIL-USD?p=FIL-USD',\n",
       " '/quote/WBNB-USD?p=WBNB-USD',\n",
       " '/quote/TONCOIN-USD?p=TONCOIN-USD',\n",
       " '/quote/KCS-USD?p=KCS-USD',\n",
       " '/quote/XCN1-USD?p=XCN1-USD',\n",
       " '/quote/SAND-USD?p=SAND-USD',\n",
       " '/quote/ZEC-USD?p=ZEC-USD',\n",
       " '/quote/FRAX-USD?p=FRAX-USD',\n",
       " '/quote/AAVE-USD?p=AAVE-USD',\n",
       " '/quote/KLAY-USD?p=KLAY-USD',\n",
       " '/quote/EOS-USD?p=EOS-USD',\n",
       " '/quote/DFI-USD?p=DFI-USD',\n",
       " '/quote/MKR-USD?p=MKR-USD',\n",
       " '/quote/AXS-USD?p=AXS-USD',\n",
       " '/quote/BTT-USD?p=BTT-USD',\n",
       " '/quote/THETA-USD?p=THETA-USD',\n",
       " '/quote/TUSD-USD?p=TUSD-USD',\n",
       " '/quote/FTM-USD?p=FTM-USD',\n",
       " '/quote/HBTC-USD?p=HBTC-USD',\n",
       " '/quote/HT-USD?p=HT-USD',\n",
       " '/quote/LUNA1-USD?p=LUNA1-USD',\n",
       " '/quote/GRT1-USD?p=GRT1-USD',\n",
       " '/quote/BTT2-USD?p=BTT2-USD',\n",
       " '/quote/RUNE-USD?p=RUNE-USD',\n",
       " '/quote/UST-USD?p=UST-USD',\n",
       " '/quote/BSV-USD?p=BSV-USD',\n",
       " '/quote/XEC-USD?p=XEC-USD',\n",
       " '/quote/USDP-USD?p=USDP-USD',\n",
       " '/quote/MIOTA-USD?p=MIOTA-USD',\n",
       " '/quote/HNT-USD?p=HNT-USD',\n",
       " '/quote/CAKE-USD?p=CAKE-USD',\n",
       " '/quote/GMT3-USD?p=GMT3-USD',\n",
       " '/quote/USDN-USD?p=USDN-USD',\n",
       " '/quote/QNT-USD?p=QNT-USD',\n",
       " '/quote/NEO-USD?p=NEO-USD',\n",
       " '/quote/LRC-USD?p=LRC-USD',\n",
       " '/quote/OKB-USD?p=OKB-USD',\n",
       " '/quote/STX-USD?p=STX-USD',\n",
       " '/quote/NEXO-USD?p=NEXO-USD',\n",
       " '/quote/LUSD-USD?p=LUSD-USD',\n",
       " '/quote/CHZ-USD?p=CHZ-USD',\n",
       " '/quote/KSM-USD?p=KSM-USD',\n",
       " '/quote/ZIL-USD?p=ZIL-USD',\n",
       " '/quote/DASH-USD?p=DASH-USD',\n",
       " '/quote/CVX-USD?p=CVX-USD',\n",
       " '/quote/PAXG-USD?p=PAXG-USD',\n",
       " '/quote/WAVES-USD?p=WAVES-USD',\n",
       " '/quote/ENJ-USD?p=ENJ-USD',\n",
       " '/quote/CELO-USD?p=CELO-USD',\n",
       " '/quote/CRV-USD?p=CRV-USD',\n",
       " '/quote/BAT-USD?p=BAT-USD',\n",
       " '/quote/ONE1-USD?p=ONE1-USD',\n",
       " '/quote/GALA-USD?p=GALA-USD',\n",
       " '/quote/AMP-USD?p=AMP-USD',\n",
       " '/quote/SAFE1-USD?p=SAFE1-USD',\n",
       " '/quote/GNO-USD?p=GNO-USD',\n",
       " '/quote/USDD-USD?p=USDD-USD',\n",
       " '/quote/MINA-USD?p=MINA-USD',\n",
       " '/quote/DCR-USD?p=DCR-USD',\n",
       " '/quote/XDC-USD?p=XDC-USD',\n",
       " '/quote/KAVA-USD?p=KAVA-USD',\n",
       " '/quote/XEM-USD?p=XEM-USD',\n",
       " '/quote/COMP1-USD?p=COMP1-USD',\n",
       " '/quote/OSMO-USD?p=OSMO-USD',\n",
       " '/quote/AR-USD?p=AR-USD',\n",
       " '/quote/BIT1-USD?p=BIT1-USD',\n",
       " '/quote/XAUT-USD?p=XAUT-USD',\n",
       " '/quote/GT-USD?p=GT-USD',\n",
       " '/quote/KDA-USD?p=KDA-USD',\n",
       " '/quote/HOT1-USD?p=HOT1-USD',\n",
       " '/quote/QTUM-USD?p=QTUM-USD',\n",
       " '/quote/FEI-USD?p=FEI-USD',\n",
       " '/quote/NXM-USD?p=NXM-USD',\n",
       " '/quote/BTG-USD?p=BTG-USD',\n",
       " '/quote/1INCH-USD?p=1INCH-USD',\n",
       " '/quote/WEMIX-USD?p=WEMIX-USD',\n",
       " '/quote/SAPP-USD?p=SAPP-USD',\n",
       " '/quote/HUSD-USD?p=HUSD-USD',\n",
       " '/quote/T-USD?p=T-USD',\n",
       " '/quote/KNC-USD?p=KNC-USD',\n",
       " '/quote/TTT1-USD?p=TTT1-USD',\n",
       " '/quote/IOTX-USD?p=IOTX-USD',\n",
       " '/quote/LDO-USD?p=LDO-USD',\n",
       " '/quote/ZRX-USD?p=ZRX-USD',\n",
       " '/quote/OMG-USD?p=OMG-USD',\n",
       " '/quote/ICX-USD?p=ICX-USD',\n",
       " '/quote/BORA-USD?p=BORA-USD',\n",
       " '/quote/XYM-USD?p=XYM-USD',\n",
       " '/quote/TFUEL-USD?p=TFUEL-USD',\n",
       " '/quote/LPT-USD?p=LPT-USD',\n",
       " '/quote/BNT-USD?p=BNT-USD',\n",
       " '/quote/YFI-USD?p=YFI-USD',\n",
       " '/quote/ROSE-USD?p=ROSE-USD',\n",
       " '/quote/GLMR-USD?p=GLMR-USD',\n",
       " '/quote/CCXX-USD?p=CCXX-USD',\n",
       " '/quote/AUDIO-USD?p=AUDIO-USD',\n",
       " '/quote/ANKR-USD?p=ANKR-USD',\n",
       " '/quote/IOST-USD?p=IOST-USD',\n",
       " '/quote/SCRT-USD?p=SCRT-USD',\n",
       " '/quote/LN-USD?p=LN-USD',\n",
       " '/quote/CHSB-USD?p=CHSB-USD',\n",
       " '/quote/RVN-USD?p=RVN-USD',\n",
       " '/quote/SNX-USD?p=SNX-USD',\n",
       " '/quote/JST-USD?p=JST-USD',\n",
       " '/quote/SRM-USD?p=SRM-USD',\n",
       " '/quote/SKL-USD?p=SKL-USD',\n",
       " '/quote/FRTS-USD?p=FRTS-USD',\n",
       " '/quote/SC-USD?p=SC-USD',\n",
       " '/quote/ELON-USD?p=ELON-USD',\n",
       " '/quote/WAXP-USD?p=WAXP-USD',\n",
       " '/quote/EVER-USD?p=EVER-USD',\n",
       " '/quote/GUSD-USD?p=GUSD-USD',\n",
       " '/quote/LOOKS-USD?p=LOOKS-USD',\n",
       " '/quote/GLM-USD?p=GLM-USD',\n",
       " '/quote/ENS-USD?p=ENS-USD',\n",
       " '/quote/ZEN-USD?p=ZEN-USD',\n",
       " '/quote/SXP-USD?p=SXP-USD',\n",
       " '/quote/ONT-USD?p=ONT-USD',\n",
       " '/quote/BNX-USD?p=BNX-USD',\n",
       " '/quote/UMA-USD?p=UMA-USD',\n",
       " '/quote/BTRST-USD?p=BTRST-USD',\n",
       " '/quote/IMX1-USD?p=IMX1-USD',\n",
       " '/quote/STORJ-USD?p=STORJ-USD',\n",
       " '/quote/RNDR-USD?p=RNDR-USD',\n",
       " '/quote/NFT1-USD?p=NFT1-USD',\n",
       " '/quote/MXC-USD?p=MXC-USD',\n",
       " '/quote/VGX-USD?p=VGX-USD',\n",
       " '/quote/BEST-USD?p=BEST-USD',\n",
       " '/quote/POLY-USD?p=POLY-USD',\n",
       " '/quote/RPL-USD?p=RPL-USD',\n",
       " '/quote/WOO-USD?p=WOO-USD',\n",
       " '/quote/HIVE-USD?p=HIVE-USD',\n",
       " '/quote/SUSHI-USD?p=SUSHI-USD',\n",
       " '/quote/GAL2-USD?p=GAL2-USD',\n",
       " '/quote/TWT-USD?p=TWT-USD',\n",
       " '/quote/PLA3-USD?p=PLA3-USD',\n",
       " '/quote/DGB-USD?p=DGB-USD',\n",
       " '/quote/ASTR-USD?p=ASTR-USD',\n",
       " '/quote/XWC-USD?p=XWC-USD',\n",
       " '/quote/ILV-USD?p=ILV-USD',\n",
       " '/quote/RENBTC-USD?p=RENBTC-USD',\n",
       " '/quote/CSPR-USD?p=CSPR-USD',\n",
       " '/quote/RLY-USD?p=RLY-USD',\n",
       " '/quote/CEL-USD?p=CEL-USD',\n",
       " '/quote/HUM-USD?p=HUM-USD',\n",
       " '/quote/RACA-USD?p=RACA-USD',\n",
       " '/quote/KEEP-USD?p=KEEP-USD',\n",
       " '/quote/CKB-USD?p=CKB-USD',\n",
       " '/quote/FLUX-USD?p=FLUX-USD',\n",
       " '/quote/KOK-USD?p=KOK-USD',\n",
       " '/quote/CFX-USD?p=CFX-USD',\n",
       " '/quote/VVS-USD?p=VVS-USD',\n",
       " '/quote/LSK-USD?p=LSK-USD',\n",
       " '/quote/VLX-USD?p=VLX-USD',\n",
       " '/quote/WVLX-USD?p=WVLX-USD',\n",
       " '/quote/ACA1-USD?p=ACA1-USD',\n",
       " '/quote/MX-USD?p=MX-USD',\n",
       " '/quote/XPRT-USD?p=XPRT-USD',\n",
       " '/quote/XNO-USD?p=XNO-USD',\n",
       " '/quote/MED-USD?p=MED-USD',\n",
       " '/quote/MVL-USD?p=MVL-USD',\n",
       " '/quote/WIN-USD?p=WIN-USD',\n",
       " '/quote/REN-USD?p=REN-USD',\n",
       " '/quote/TEL-USD?p=TEL-USD',\n",
       " '/quote/ANC1-USD?p=ANC1-USD',\n",
       " '/quote/GST2-USD?p=GST2-USD',\n",
       " '/quote/XCH-USD?p=XCH-USD',\n",
       " '/quote/CEEK-USD?p=CEEK-USD',\n",
       " '/quote/MOB-USD?p=MOB-USD',\n",
       " '/quote/PEOPLE-USD?p=PEOPLE-USD',\n",
       " '/quote/OCEAN-USD?p=OCEAN-USD',\n",
       " '/quote/REQ-USD?p=REQ-USD',\n",
       " '/quote/DAG-USD?p=DAG-USD',\n",
       " '/quote/ORBS-USD?p=ORBS-USD',\n",
       " '/quote/TITAN-USD?p=TITAN-USD',\n",
       " '/quote/DYDX-USD?p=DYDX-USD',\n",
       " '/quote/BSW-USD?p=BSW-USD',\n",
       " '/quote/CBG-USD?p=CBG-USD',\n",
       " '/quote/EPS1-USD?p=EPS1-USD',\n",
       " '/quote/SYS-USD?p=SYS-USD',\n",
       " '/quote/EURS-USD?p=EURS-USD',\n",
       " '/quote/PUNDIX-USD?p=PUNDIX-USD',\n",
       " '/quote/INJ-USD?p=INJ-USD',\n",
       " '/quote/XDB-USD?p=XDB-USD',\n",
       " '/quote/SPELL-USD?p=SPELL-USD',\n",
       " '/quote/CELR-USD?p=CELR-USD',\n",
       " '/quote/DESO-USD?p=DESO-USD',\n",
       " '/quote/AURORA1-USD?p=AURORA1-USD',\n",
       " '/quote/POWR-USD?p=POWR-USD',\n",
       " '/quote/AVINOC-USD?p=AVINOC-USD',\n",
       " '/quote/XYO-USD?p=XYO-USD',\n",
       " '/quote/ARRR-USD?p=ARRR-USD',\n",
       " '/quote/CTC-USD?p=CTC-USD',\n",
       " '/quote/COTI-USD?p=COTI-USD',\n",
       " '/quote/DAO-USD?p=DAO-USD',\n",
       " '/quote/C98-USD?p=C98-USD',\n",
       " '/quote/CHR-USD?p=CHR-USD',\n",
       " '/quote/ONG1-USD?p=ONG1-USD',\n",
       " '/quote/FET-USD?p=FET-USD',\n",
       " '/quote/NU-USD?p=NU-USD',\n",
       " '/quote/SURE-USD?p=SURE-USD',\n",
       " '/quote/PERP-USD?p=PERP-USD',\n",
       " '/quote/SNT-USD?p=SNT-USD',\n",
       " '/quote/CVC-USD?p=CVC-USD',\n",
       " '/quote/ANY-USD?p=ANY-USD',\n",
       " '/quote/REP-USD?p=REP-USD',\n",
       " '/quote/SOLO-USD?p=SOLO-USD']"
      ]
     },
     "execution_count": 10,
     "metadata": {},
     "output_type": "execute_result"
    }
   ],
   "source": [
    "symbols"
   ]
  },
  {
   "cell_type": "code",
   "execution_count": 11,
   "metadata": {},
   "outputs": [],
   "source": [
    "symbols_ = [s[s.find('=')+1:] for s in symbols]"
   ]
  },
  {
   "cell_type": "code",
   "execution_count": 12,
   "metadata": {},
   "outputs": [
    {
     "data": {
      "text/plain": [
       "250"
      ]
     },
     "execution_count": 12,
     "metadata": {},
     "output_type": "execute_result"
    }
   ],
   "source": [
    "len(symbols_)"
   ]
  },
  {
   "cell_type": "code",
   "execution_count": 13,
   "metadata": {},
   "outputs": [],
   "source": [
    "df = pd.DataFrame({'Symbols': symbols_})"
   ]
  },
  {
   "cell_type": "code",
   "execution_count": 14,
   "metadata": {},
   "outputs": [
    {
     "data": {
      "text/html": [
       "<div>\n",
       "<style scoped>\n",
       "    .dataframe tbody tr th:only-of-type {\n",
       "        vertical-align: middle;\n",
       "    }\n",
       "\n",
       "    .dataframe tbody tr th {\n",
       "        vertical-align: top;\n",
       "    }\n",
       "\n",
       "    .dataframe thead th {\n",
       "        text-align: right;\n",
       "    }\n",
       "</style>\n",
       "<table border=\"1\" class=\"dataframe\">\n",
       "  <thead>\n",
       "    <tr style=\"text-align: right;\">\n",
       "      <th></th>\n",
       "      <th>Symbols</th>\n",
       "    </tr>\n",
       "  </thead>\n",
       "  <tbody>\n",
       "    <tr>\n",
       "      <th>0</th>\n",
       "      <td>BTC-USD</td>\n",
       "    </tr>\n",
       "    <tr>\n",
       "      <th>1</th>\n",
       "      <td>ETH-USD</td>\n",
       "    </tr>\n",
       "    <tr>\n",
       "      <th>2</th>\n",
       "      <td>USDT-USD</td>\n",
       "    </tr>\n",
       "    <tr>\n",
       "      <th>3</th>\n",
       "      <td>BNB-USD</td>\n",
       "    </tr>\n",
       "    <tr>\n",
       "      <th>4</th>\n",
       "      <td>USDC-USD</td>\n",
       "    </tr>\n",
       "    <tr>\n",
       "      <th>...</th>\n",
       "      <td>...</td>\n",
       "    </tr>\n",
       "    <tr>\n",
       "      <th>245</th>\n",
       "      <td>SNT-USD</td>\n",
       "    </tr>\n",
       "    <tr>\n",
       "      <th>246</th>\n",
       "      <td>CVC-USD</td>\n",
       "    </tr>\n",
       "    <tr>\n",
       "      <th>247</th>\n",
       "      <td>ANY-USD</td>\n",
       "    </tr>\n",
       "    <tr>\n",
       "      <th>248</th>\n",
       "      <td>REP-USD</td>\n",
       "    </tr>\n",
       "    <tr>\n",
       "      <th>249</th>\n",
       "      <td>SOLO-USD</td>\n",
       "    </tr>\n",
       "  </tbody>\n",
       "</table>\n",
       "<p>250 rows × 1 columns</p>\n",
       "</div>"
      ],
      "text/plain": [
       "      Symbols\n",
       "0     BTC-USD\n",
       "1     ETH-USD\n",
       "2    USDT-USD\n",
       "3     BNB-USD\n",
       "4    USDC-USD\n",
       "..        ...\n",
       "245   SNT-USD\n",
       "246   CVC-USD\n",
       "247   ANY-USD\n",
       "248   REP-USD\n",
       "249  SOLO-USD\n",
       "\n",
       "[250 rows x 1 columns]"
      ]
     },
     "execution_count": 14,
     "metadata": {},
     "output_type": "execute_result"
    }
   ],
   "source": [
    "df"
   ]
  },
  {
   "cell_type": "code",
   "execution_count": null,
   "metadata": {},
   "outputs": [],
   "source": []
  }
 ],
 "metadata": {
  "kernelspec": {
   "display_name": "Python 3",
   "language": "python",
   "name": "python3"
  },
  "language_info": {
   "codemirror_mode": {
    "name": "ipython",
    "version": 3
   },
   "file_extension": ".py",
   "mimetype": "text/x-python",
   "name": "python",
   "nbconvert_exporter": "python",
   "pygments_lexer": "ipython3",
   "version": "3.8.3"
  }
 },
 "nbformat": 4,
 "nbformat_minor": 4
}
